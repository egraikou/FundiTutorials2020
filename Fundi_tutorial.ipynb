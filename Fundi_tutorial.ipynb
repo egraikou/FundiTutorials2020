{
 "cells": [
  {
   "cell_type": "code",
   "execution_count": 5,
   "metadata": {},
   "outputs": [],
   "source": "import numpy as np"
  },
  {
   "cell_type": "code",
   "execution_count": 6,
   "metadata": {},
   "outputs": [],
   "source": "import datetime"
  },
  {
   "cell_type": "code",
   "execution_count": 7,
   "metadata": {},
   "outputs": [],
   "source": "def mjd_to_date(mjds):\n    \"\"\"Convert Modified Julian Day (MJD) to the year, month, day.\n\n        Input:\n            mjds: Array of Modified Julian days\n\n        Outputs:\n            years: Array of years.\n            months: Array of months.\n            days: Array of (fractional) days.\n\n        (Follow Jean Meeus' Astronomical Algorithms, 2nd Ed., Ch. 7)\n    \"\"\"\n    JD = np.atleast_1d(mjds)+2400000.5\n\n    if np.any(JD<0.0):\n        raise ValueError(\"This function does not apply for JD < 0.\")\n\n    JD += 0.5\n\n    # Z is integer part of JD\n    Z = np.floor(JD)\n    # F is fractional part of JD\n    F = np.mod(JD, 1)\n\n    A = np.copy(Z)\n    alpha = np.floor((Z-1867216.25)/36524.25)\n    A[Z>=2299161] = Z + 1 + alpha - np.floor(0.25*alpha)\n\n    B = A + 1524\n    C = np.floor((B-122.1)/365.25)\n    D = np.floor(365.25*C)\n    E = np.floor((B-D)/30.6001)\n\n    day = B - D - np.floor(30.6001*E) + F\n    month = E - 1\n    month[(E==14.0) | (E==15.0)] = E - 13\n    year = C - 4716\n    year[(month==1.0) | (month==2.0)] = C - 4715\n    return (year.astype('int').squeeze(), month.astype('int').squeeze(), \\\n                day.squeeze())"
  },
  {
   "cell_type": "code",
   "execution_count": 8,
   "metadata": {},
   "outputs": [
    {
     "name": "stdout",
     "output_type": "stream",
     "text": "(array(2020), array(1), array(1.0))\n"
    }
   ],
   "source": "print (mjd_to_date(58849))"
  },
  {
   "cell_type": "code",
   "execution_count": 9,
   "metadata": {},
   "outputs": [
    {
     "name": "stdout",
     "output_type": "stream",
     "text": "2020-05-17 00:00:00\n"
    }
   ],
   "source": "x = datetime.datetime(2020, 5, 17)\nprint (x)"
  },
  {
   "cell_type": "code",
   "execution_count": 10,
   "metadata": {},
   "outputs": [],
   "source": "def mjd_to_datetime(mjd):\n    \"\"\"Given an MJD return a datetime.datetime object.\n        \n        Input:\n            mjds: Array of Modified Julian days\n\n        Output:\n            date: The datetime object.\n    \"\"\"\n    yy, mm, dd = mjd_to_date(mjd)\n    date = datetime.datetime(int(yy), int(mm), int(dd))   + \\\n            datetime.timedelta(days=(mjd%1))\n    return date\n"
  },
  {
   "cell_type": "code",
   "execution_count": 11,
   "metadata": {},
   "outputs": [
    {
     "name": "stdout",
     "output_type": "stream",
     "text": "2020-01-01 07:12:00\n"
    }
   ],
   "source": "print (mjd_to_datetime(58849.3))"
  },
  {
   "cell_type": "code",
   "execution_count": 12,
   "metadata": {},
   "outputs": [],
   "source": "from astropy.time import Time"
  },
  {
   "cell_type": "code",
   "execution_count": 13,
   "metadata": {},
   "outputs": [],
   "source": "times = mjd_to_datetime(58849)"
  },
  {
   "cell_type": "code",
   "execution_count": 14,
   "metadata": {},
   "outputs": [
    {
     "name": "stdout",
     "output_type": "stream",
     "text": "2020-01-01 00:00:00\n"
    }
   ],
   "source": "print (times)"
  },
  {
   "cell_type": "code",
   "execution_count": 15,
   "metadata": {},
   "outputs": [
    {
     "name": "stdout",
     "output_type": "stream",
     "text": "2019-01-13\n"
    }
   ],
   "source": "date = datetime.date(2019,1,13)\nprint (date)"
  },
  {
   "cell_type": "code",
   "execution_count": 16,
   "metadata": {},
   "outputs": [],
   "source": "x_time=[58849, 58859, 58869, 58879]\ny_flux=[1.2, 1.4, 1.5, 1.3]"
  },
  {
   "cell_type": "code",
   "execution_count": 17,
   "metadata": {},
   "outputs": [],
   "source": "import matplotlib.pyplot as plt\nimport matplotlib.ticker as ticker\nfrom matplotlib.ticker import FuncFormatter"
  },
  {
   "cell_type": "code",
   "execution_count": 18,
   "metadata": {},
   "outputs": [
    {
     "data": {
      "image/png": "[encoded data removed]",
      "text/plain": "<matplotlib.figure.Figure at 0x7fed126d08d0>"
     },
     "metadata": {
      "needs_background": "light"
     },
     "output_type": "display_data"
    }
   ],
   "source": "fig1, ax1 = plt.subplots()\n\n\nax1.scatter(x_time,y_flux)\n\nx_formatter = ticker.ScalarFormatter(useOffset=False)\nax1.xaxis.set_major_formatter(x_formatter)\n\n#Arrange the position of x axis ticks\nplt.xticks(np.arange(min(x_time), max(x_time)+1, 10.0))\n#plt.yticks(np.arange(min(y_flux),max(y_flux), 0.1))\n\nplt.xlabel('MJD')\nax1.set_yscale('log')\n\nplt.show()"
  },
  {
   "cell_type": "code",
   "execution_count": 19,
   "metadata": {},
   "outputs": [],
   "source": "import psrchive"
  },
  {
   "cell_type": "code",
   "execution_count": 20,
   "metadata": {},
   "outputs": [],
   "source": "import subprocess"
  },
  {
   "cell_type": "code",
   "execution_count": 21,
   "metadata": {},
   "outputs": [],
   "source": "import os\nimport os.path"
  },
  {
   "cell_type": "code",
   "execution_count": 22,
   "metadata": {},
   "outputs": [
    {
     "name": "stdout",
     "output_type": "stream",
     "text": "Fundi_tutorial.ipynb\nUntitled.ipynb\nUntitled1.ipynb\natnf.csv\n\n"
    }
   ],
   "source": "command = os.popen(\"ls\")\nprint (command.read())"
  },
  {
   "cell_type": "code",
   "execution_count": 23,
   "metadata": {},
   "outputs": [
    {
     "name": "stdout",
     "output_type": "stream",
     "text": "\nNone\n"
    }
   ],
   "source": "bashCommand = \"find . -name *txt\"\nprocess = subprocess.Popen(bashCommand.split(), stdout=subprocess.PIPE)\noutput, error = process.communicate()\nprint (str(output)   )\nprint (error)"
  },
  {
   "cell_type": "code",
   "execution_count": 24,
   "metadata": {},
   "outputs": [
    {
     "name": "stdout",
     "output_type": "stream",
     "text": "\nNone\n"
    }
   ],
   "source": "command = os.popen('find . -name *txt')\nprint(command.read())\nprint(command.close())"
  },
  {
   "cell_type": "code",
   "execution_count": 25,
   "metadata": {},
   "outputs": [],
   "source": "import sys\nimport types\n\ndef execute(cmd, stdout=subprocess.PIPE, stderr=sys.stderr, dir=None):\n    \"\"\"Execute the command 'cmd' after logging the command\n        to STDOUT. Execute the command in the directory 'dir',\n        which defaults to the current directory is not provided.\n\n        Output standard output to 'stdout' and standard\n        error to 'stderr'. Both are strings containing filenames.\n        If values are None, the out/err streams are not recorded.\n        By default stdout is subprocess.PIPE and stderr is sent \n        to sys.stderr.\n\n        Returns (stdoutdata, stderrdata). These will both be None, \n        unless subprocess.PIPE is provided.\n    \"\"\"\n    # Log command to stdout\n    #print_debug(\"'%s'\" % cmd, 'syscalls', stepsback=2)\n\n    stdoutfile = False\n    stderrfile = False\n    if type(stdout) == str:\n        stdout = open(stdout, 'w')\n        stdoutfile = True\n    if type(stderr) == str:\n        stderr = open(stderr, 'w')\n        stderrfile = True\n\n    # Run (and time) the command. Check for errors.\n    if type(cmd) == str:\n        shell=True\n    else:\n        shell=False\n\n    pipe = subprocess.Popen(cmd, shell=shell, cwd=dir, \\\n                            stdout=stdout, stderr=subprocess.PIPE)\n    (stdoutdata, stderrdata) = pipe.communicate()\n\n    # Close file objects, if any\n    if stdoutfile:\n        stdout.close()\n    if stderrfile:\n        stderr.write(stderrdata)\n        stderr.close()\n\n    retcode = pipe.returncode\n    if retcode < 0:\n        raise errors.SystemCallError(\"Execution of command (%s) \" \\\n                                    \"terminated by signal (%s)!\" % \\\n                                (cmd, -retcode))\n    elif retcode > 0:\n        raise errors.SystemCallError(\"Execution of command (%s) failed \" \\\n                                \"with status (%s)!\\nError output:\\n%s\" % \\\n                                (cmd, retcode, stderrdata))\n    else:\n        # Exit code is 0, which is \"Success\". Do nothing.\n        pass\n\n    return (stdoutdata, stderrdata)"
  },
  {
   "cell_type": "code",
   "execution_count": 42,
   "metadata": {},
   "outputs": [],
   "source": "# Import psrchive"
  },
  {
   "cell_type": "code",
   "execution_count": 43,
   "metadata": {},
   "outputs": [],
   "source": "# Astropy"
  },
  {
   "cell_type": "code",
   "execution_count": 44,
   "metadata": {},
   "outputs": [],
   "source": "# Fitting a model to data"
  },
  {
   "cell_type": "code",
   "execution_count": null,
   "metadata": {},
   "outputs": [],
   "source": ""
  }
 ],
 "metadata": {
  "kernelspec": {
   "display_name": "Python 2",
   "language": "python",
   "name": "python2"
  },
  "language_info": {
   "codemirror_mode": {
    "name": "ipython",
    "version": 2
   },
   "file_extension": ".py",
   "mimetype": "text/x-python",
   "name": "python",
   "nbconvert_exporter": "python",
   "pygments_lexer": "ipython2",
   "version": "2.7.12"
  }
 },
 "nbformat": 4,
 "nbformat_minor": 4
}
